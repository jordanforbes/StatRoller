{
 "cells": [
  {
   "cell_type": "code",
   "execution_count": 22,
   "metadata": {},
   "outputs": [
    {
     "name": "stdout",
     "output_type": "stream",
     "text": [
      "Name:  John Race:  Human  Strength:  6  Dexterity:  12  Constitution:  12  Intelligence:  16  Wisdom:  16  Charisma:  9\n"
     ]
    }
   ],
   "source": [
    "import characterclass as ch \n",
    "\n",
    "name = \"John\"\n",
    "race = \"Human\"\n",
    "player1 = ch.CharacterClass(name,race)\n",
    "player1.showStats()\n"
   ]
  },
  {
   "cell_type": "code",
   "execution_count": 23,
   "metadata": {},
   "outputs": [
    {
     "data": {
      "text/plain": [
       "(None, [])"
      ]
     },
     "execution_count": 23,
     "metadata": {},
     "output_type": "execute_result"
    }
   ],
   "source": [
    "import PySimpleGUI as sg\n",
    "\n",
    "sg.Window(\n",
    "    title=\"Hello World\", \n",
    "    layout = [  \n",
    "                [sg.Text('Name: '+player1.name)], \n",
    "                [sg.Text('Race: '+player1.race)], \n",
    "                [sg.Text('Strength: '+str(player1.stre))],\n",
    "                [sg.Text('Dexterity: '+str(player1.dext))],\n",
    "                [sg.Text('Constitution: '+str(player1.cons))],\n",
    "                [sg.Text('Intelligence: '+str(player1.inte))],\n",
    "                [sg.Text('Wisdom: '+str(player1.wisd))],\n",
    "                [sg.Text('Charisma: '+str(player1.char))],\n",
    "            ], \n",
    "    margins = (100,50)).read()"
   ]
  },
  {
   "cell_type": "code",
   "execution_count": 31,
   "metadata": {},
   "outputs": [
    {
     "ename": "AttributeError",
     "evalue": "'CharacterClass' object has no attribute 'rerollStats'",
     "output_type": "error",
     "traceback": [
      "\u001b[1;31m---------------------------------------------------------------------------\u001b[0m",
      "\u001b[1;31mAttributeError\u001b[0m                            Traceback (most recent call last)",
      "\u001b[1;32mc:\\Users\\Jordf\\OneDrive\\coding\\python\\StatRoller\\statroller2.ipynb Cell 3'\u001b[0m in \u001b[0;36m<cell line: 1>\u001b[1;34m()\u001b[0m\n\u001b[1;32m----> <a href='vscode-notebook-cell:/c%3A/Users/Jordf/OneDrive/coding/python/StatRoller/statroller2.ipynb#ch0000003?line=0'>1</a>\u001b[0m player1\u001b[39m.\u001b[39;49mrerollStats()\n",
      "\u001b[1;31mAttributeError\u001b[0m: 'CharacterClass' object has no attribute 'rerollStats'"
     ]
    }
   ],
   "source": [
    "player1.rerollStats()"
   ]
  },
  {
   "cell_type": "markdown",
   "metadata": {},
   "source": [
    "3/28/22 10:17pm- added simple gui to display stats. Next implement reroll to re throw stats."
   ]
  }
 ],
 "metadata": {
  "interpreter": {
   "hash": "179fbfc1336d5405ac7b706d3dc17bb7572a11647f234436ffdd773c93716b2f"
  },
  "kernelspec": {
   "display_name": "Python 3.9.11 64-bit (windows store)",
   "language": "python",
   "name": "python3"
  },
  "language_info": {
   "codemirror_mode": {
    "name": "ipython",
    "version": 3
   },
   "file_extension": ".py",
   "mimetype": "text/x-python",
   "name": "python",
   "nbconvert_exporter": "python",
   "pygments_lexer": "ipython3",
   "version": "3.9.12"
  },
  "orig_nbformat": 4
 },
 "nbformat": 4,
 "nbformat_minor": 2
}
