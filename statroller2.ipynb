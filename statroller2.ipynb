{
 "cells": [
  {
   "cell_type": "code",
   "execution_count": 1,
   "metadata": {},
   "outputs": [
    {
     "name": "stdout",
     "output_type": "stream",
     "text": [
      "Name:  John Race:  Human  Strength:  16  Dexterity:  13  Constitution:  12  Intelligence:  13  Wisdom:  13  Charisma:  13\n"
     ]
    }
   ],
   "source": [
    "import characterclass as ch \n",
    "import PySimpleGUI as sg\n",
    "\n",
    "\n",
    "sg.theme('DarkTeal4')\n",
    "\n",
    "\n",
    "name = \"John\"\n",
    "race = \"Human\"\n",
    "player1 = ch.CharacterClass(name,race)\n",
    "player1.showStats()\n",
    "\n",
    "def alert(msg):\n",
    "    sg.popup(alert)\n"
   ]
  },
  {
   "cell_type": "code",
   "execution_count": null,
   "metadata": {},
   "outputs": [],
   "source": [
    "import PySimpleGUI as sg\n",
    "\n",
    "layout = [  \n",
    "                [sg.Text('Name: '+player1.name)], \n",
    "                [sg.Text('Race: '+player1.race)], \n",
    "                \n",
    "                [sg.Text('Strength:'), sg.Text(player1.stre, k='-STRE-')],\n",
    "                [sg.Text('Dexterity:'), sg.Text(player1.dext, k='-DEXT-')],\n",
    "                [sg.Text('Constitution:'), sg.Text(player1.cons, k='-CONS-')],\n",
    "                [sg.Text('Intelligence:'), sg.Text(player1.inte, k='-INTE-')],\n",
    "                [sg.Text('Wisdom:'), sg.Text(player1.wisd, k='-WISD-')],\n",
    "                [sg.Text('Charisma:'), sg.Text(player1.char, k='-CHAR-')],\n",
    "\n",
    "                [sg.Button('re-roll stats', key='-REROLL-')],\n",
    "                [sg.Button('Close')],\n",
    "                \n",
    "                \n",
    "            ]\n",
    "  \n",
    "window = sg.Window('STATS').Layout(layout)\n",
    "\n",
    "while True:\n",
    "    event, values = window.Read()\n",
    "    if event == '-UP-':\n",
    "        \n",
    "        n+=1\n",
    "        window['-COUNTER-'].update(n)\n",
    "        \n",
    "    if event =='-REROLL-':\n",
    "        player1.reRollStats()\n",
    "        window['-STRE-'].update(player1.stre)\n",
    "        window['-DEXT-'].update(player1.dext)\n",
    "        window['-CONS-'].update(player1.cons)\n",
    "        window['-INTE-'].update(player1.inte)\n",
    "        window['-WISD-'].update(player1.wisd)\n",
    "        window['-CHAR-'].update(player1.char)\n",
    "    if event == sg.WIN_CLOSED or event == 'Close':\n",
    "        break\n",
    "    \n",
    "window.close()\n",
    "    "
   ]
  },
  {
   "cell_type": "code",
   "execution_count": null,
   "metadata": {},
   "outputs": [],
   "source": []
  },
  {
   "cell_type": "markdown",
   "metadata": {},
   "source": []
  },
  {
   "cell_type": "markdown",
   "metadata": {},
   "source": [
    "3/28/22 10:17pm- added simple gui to display stats. Next implement reroll to re throw stats.\n",
    "\n",
    "8:44am- I have to find a way to update the gui after reloading. \n",
    "\n",
    "4/2/22\n",
    "3:33AM -the gui now updates stats. There has to be a more elegant way to put stats in, but for now this works. "
   ]
  },
  {
   "cell_type": "code",
   "execution_count": null,
   "metadata": {},
   "outputs": [],
   "source": []
  },
  {
   "cell_type": "code",
   "execution_count": 5,
   "metadata": {},
   "outputs": [],
   "source": [
    "#update demo\n",
    "layout = [ [sg.Text('My layout', key='-TEXT-')],\n",
    "           [sg.Button('Read')]]\n",
    "\n",
    "window = sg.Window('My new window', layout)\n",
    "\n",
    "while True:             # Event Loop\n",
    "    event, values = window.read()\n",
    "    if event == sg.WIN_CLOSED:\n",
    "        break\n",
    "    window['-TEXT-'].update('My new text value')"
   ]
  }
 ],
 "metadata": {
  "interpreter": {
   "hash": "179fbfc1336d5405ac7b706d3dc17bb7572a11647f234436ffdd773c93716b2f"
  },
  "kernelspec": {
   "display_name": "Python 3.9.11 64-bit (windows store)",
   "language": "python",
   "name": "python3"
  },
  "language_info": {
   "codemirror_mode": {
    "name": "ipython",
    "version": 3
   },
   "file_extension": ".py",
   "mimetype": "text/x-python",
   "name": "python",
   "nbconvert_exporter": "python",
   "pygments_lexer": "ipython3",
   "version": "3.9.12"
  },
  "orig_nbformat": 4
 },
 "nbformat": 4,
 "nbformat_minor": 2
}
