{
 "cells": [
  {
   "cell_type": "code",
   "execution_count": 8,
   "metadata": {},
   "outputs": [
    {
     "name": "stdout",
     "output_type": "stream",
     "text": [
      "Name:  John Race:  Human  Strength:  14  Dexterity:  15  Constitution:  14  Intelligence:  9  Wisdom:  9  Charisma:  17\n"
     ]
    }
   ],
   "source": [
    "import characterclass as ch \n",
    "import PySimpleGUI as sg\n",
    "\n",
    "sg.theme('DarkTeal4')\n",
    "\n",
    "\n",
    "name = \"John\"\n",
    "race = \"Human\"\n",
    "player1 = ch.CharacterClass(name,race)\n",
    "player1.showStats()\n",
    "\n",
    "def alert(msg):\n",
    "    sg.popup(alert)\n"
   ]
  },
  {
   "cell_type": "markdown",
   "metadata": {},
   "source": [
    "that's how you make an alert in python "
   ]
  },
  {
   "cell_type": "code",
   "execution_count": 25,
   "metadata": {},
   "outputs": [
    {
     "name": "stdout",
     "output_type": "stream",
     "text": [
      "Name:  John Race:  Human  Strength:  11  Dexterity:  13  Constitution:  10  Intelligence:  16  Wisdom:  12  Charisma:  14\n",
      "Name:  John Race:  Human  Strength:  12  Dexterity:  14  Constitution:  13  Intelligence:  13  Wisdom:  14  Charisma:  9\n",
      "Name:  John Race:  Human  Strength:  11  Dexterity:  9  Constitution:  7  Intelligence:  15  Wisdom:  11  Charisma:  11\n",
      "Name:  John Race:  Human  Strength:  12  Dexterity:  16  Constitution:  13  Intelligence:  11  Wisdom:  12  Charisma:  9\n",
      "Name:  John Race:  Human  Strength:  14  Dexterity:  15  Constitution:  16  Intelligence:  13  Wisdom:  13  Charisma:  15\n",
      "Name:  John Race:  Human  Strength:  6  Dexterity:  13  Constitution:  14  Intelligence:  11  Wisdom:  14  Charisma:  13\n",
      "Name:  John Race:  Human  Strength:  14  Dexterity:  15  Constitution:  10  Intelligence:  9  Wisdom:  7  Charisma:  9\n",
      "Name:  John Race:  Human  Strength:  11  Dexterity:  14  Constitution:  11  Intelligence:  11  Wisdom:  10  Charisma:  14\n",
      "Name:  John Race:  Human  Strength:  12  Dexterity:  6  Constitution:  13  Intelligence:  16  Wisdom:  11  Charisma:  8\n",
      "Name:  John Race:  Human  Strength:  12  Dexterity:  10  Constitution:  15  Intelligence:  17  Wisdom:  12  Charisma:  10\n",
      "Name:  John Race:  Human  Strength:  7  Dexterity:  10  Constitution:  13  Intelligence:  14  Wisdom:  7  Charisma:  18\n",
      "Name:  John Race:  Human  Strength:  16  Dexterity:  13  Constitution:  10  Intelligence:  8  Wisdom:  8  Charisma:  15\n",
      "Name:  John Race:  Human  Strength:  10  Dexterity:  11  Constitution:  13  Intelligence:  12  Wisdom:  14  Charisma:  10\n",
      "Name:  John Race:  Human  Strength:  7  Dexterity:  8  Constitution:  12  Intelligence:  14  Wisdom:  12  Charisma:  16\n",
      "Name:  John Race:  Human  Strength:  11  Dexterity:  12  Constitution:  12  Intelligence:  16  Wisdom:  13  Charisma:  5\n",
      "Name:  John Race:  Human  Strength:  14  Dexterity:  8  Constitution:  16  Intelligence:  17  Wisdom:  15  Charisma:  14\n",
      "Name:  John Race:  Human  Strength:  15  Dexterity:  17  Constitution:  15  Intelligence:  5  Wisdom:  10  Charisma:  4\n",
      "Name:  John Race:  Human  Strength:  10  Dexterity:  15  Constitution:  12  Intelligence:  11  Wisdom:  13  Charisma:  14\n",
      "Name:  John Race:  Human  Strength:  11  Dexterity:  11  Constitution:  12  Intelligence:  7  Wisdom:  12  Charisma:  12\n",
      "Name:  John Race:  Human  Strength:  15  Dexterity:  11  Constitution:  13  Intelligence:  17  Wisdom:  13  Charisma:  13\n",
      "Name:  John Race:  Human  Strength:  13  Dexterity:  11  Constitution:  12  Intelligence:  16  Wisdom:  12  Charisma:  10\n",
      "Name:  John Race:  Human  Strength:  10  Dexterity:  14  Constitution:  9  Intelligence:  12  Wisdom:  11  Charisma:  15\n",
      "Name:  John Race:  Human  Strength:  11  Dexterity:  12  Constitution:  17  Intelligence:  14  Wisdom:  8  Charisma:  14\n",
      "Name:  John Race:  Human  Strength:  14  Dexterity:  13  Constitution:  10  Intelligence:  8  Wisdom:  12  Charisma:  11\n",
      "Name:  John Race:  Human  Strength:  14  Dexterity:  12  Constitution:  12  Intelligence:  13  Wisdom:  13  Charisma:  12\n",
      "Name:  John Race:  Human  Strength:  15  Dexterity:  15  Constitution:  17  Intelligence:  16  Wisdom:  6  Charisma:  12\n",
      "Name:  John Race:  Human  Strength:  9  Dexterity:  15  Constitution:  11  Intelligence:  12  Wisdom:  12  Charisma:  12\n",
      "Name:  John Race:  Human  Strength:  7  Dexterity:  14  Constitution:  14  Intelligence:  14  Wisdom:  9  Charisma:  15\n",
      "Name:  John Race:  Human  Strength:  13  Dexterity:  6  Constitution:  9  Intelligence:  15  Wisdom:  10  Charisma:  16\n",
      "Name:  John Race:  Human  Strength:  11  Dexterity:  14  Constitution:  15  Intelligence:  14  Wisdom:  11  Charisma:  14\n",
      "Name:  John Race:  Human  Strength:  11  Dexterity:  14  Constitution:  16  Intelligence:  14  Wisdom:  10  Charisma:  16\n",
      "Name:  John Race:  Human  Strength:  14  Dexterity:  10  Constitution:  12  Intelligence:  15  Wisdom:  10  Charisma:  8\n",
      "Name:  John Race:  Human  Strength:  15  Dexterity:  9  Constitution:  14  Intelligence:  9  Wisdom:  13  Charisma:  11\n",
      "Name:  John Race:  Human  Strength:  8  Dexterity:  15  Constitution:  12  Intelligence:  10  Wisdom:  7  Charisma:  13\n",
      "Name:  John Race:  Human  Strength:  13  Dexterity:  13  Constitution:  17  Intelligence:  9  Wisdom:  7  Charisma:  9\n",
      "Name:  John Race:  Human  Strength:  16  Dexterity:  15  Constitution:  11  Intelligence:  9  Wisdom:  13  Charisma:  12\n",
      "Name:  John Race:  Human  Strength:  10  Dexterity:  15  Constitution:  13  Intelligence:  8  Wisdom:  14  Charisma:  15\n",
      "Name:  John Race:  Human  Strength:  10  Dexterity:  10  Constitution:  13  Intelligence:  10  Wisdom:  15  Charisma:  8\n",
      "Name:  John Race:  Human  Strength:  16  Dexterity:  7  Constitution:  15  Intelligence:  11  Wisdom:  6  Charisma:  10\n",
      "Name:  John Race:  Human  Strength:  13  Dexterity:  15  Constitution:  11  Intelligence:  14  Wisdom:  10  Charisma:  11\n",
      "Name:  John Race:  Human  Strength:  15  Dexterity:  16  Constitution:  12  Intelligence:  13  Wisdom:  16  Charisma:  13\n",
      "Name:  John Race:  Human  Strength:  11  Dexterity:  6  Constitution:  8  Intelligence:  6  Wisdom:  16  Charisma:  14\n",
      "Name:  John Race:  Human  Strength:  15  Dexterity:  9  Constitution:  12  Intelligence:  12  Wisdom:  12  Charisma:  13\n",
      "Name:  John Race:  Human  Strength:  15  Dexterity:  14  Constitution:  10  Intelligence:  8  Wisdom:  14  Charisma:  8\n",
      "Name:  John Race:  Human  Strength:  14  Dexterity:  8  Constitution:  13  Intelligence:  14  Wisdom:  15  Charisma:  10\n",
      "Name:  John Race:  Human  Strength:  13  Dexterity:  11  Constitution:  9  Intelligence:  10  Wisdom:  12  Charisma:  11\n",
      "Name:  John Race:  Human  Strength:  12  Dexterity:  10  Constitution:  14  Intelligence:  12  Wisdom:  10  Charisma:  11\n",
      "Name:  John Race:  Human  Strength:  9  Dexterity:  6  Constitution:  13  Intelligence:  5  Wisdom:  12  Charisma:  15\n",
      "Name:  John Race:  Human  Strength:  7  Dexterity:  14  Constitution:  16  Intelligence:  10  Wisdom:  14  Charisma:  16\n",
      "Name:  John Race:  Human  Strength:  16  Dexterity:  13  Constitution:  11  Intelligence:  8  Wisdom:  11  Charisma:  18\n",
      "Name:  John Race:  Human  Strength:  13  Dexterity:  7  Constitution:  14  Intelligence:  12  Wisdom:  16  Charisma:  11\n",
      "Name:  John Race:  Human  Strength:  10  Dexterity:  10  Constitution:  11  Intelligence:  15  Wisdom:  13  Charisma:  14\n",
      "Name:  John Race:  Human  Strength:  14  Dexterity:  12  Constitution:  17  Intelligence:  13  Wisdom:  11  Charisma:  15\n",
      "Name:  John Race:  Human  Strength:  13  Dexterity:  13  Constitution:  14  Intelligence:  13  Wisdom:  10  Charisma:  12\n",
      "Name:  John Race:  Human  Strength:  10  Dexterity:  14  Constitution:  11  Intelligence:  12  Wisdom:  9  Charisma:  8\n",
      "Name:  John Race:  Human  Strength:  11  Dexterity:  14  Constitution:  7  Intelligence:  17  Wisdom:  16  Charisma:  8\n",
      "Name:  John Race:  Human  Strength:  16  Dexterity:  14  Constitution:  14  Intelligence:  11  Wisdom:  9  Charisma:  9\n",
      "Name:  John Race:  Human  Strength:  12  Dexterity:  15  Constitution:  14  Intelligence:  15  Wisdom:  16  Charisma:  16\n",
      "Name:  John Race:  Human  Strength:  13  Dexterity:  12  Constitution:  7  Intelligence:  15  Wisdom:  17  Charisma:  15\n",
      "Name:  John Race:  Human  Strength:  7  Dexterity:  11  Constitution:  15  Intelligence:  9  Wisdom:  10  Charisma:  11\n",
      "Name:  John Race:  Human  Strength:  10  Dexterity:  11  Constitution:  10  Intelligence:  8  Wisdom:  9  Charisma:  10\n",
      "Name:  John Race:  Human  Strength:  11  Dexterity:  13  Constitution:  12  Intelligence:  14  Wisdom:  16  Charisma:  6\n",
      "Name:  John Race:  Human  Strength:  14  Dexterity:  9  Constitution:  12  Intelligence:  7  Wisdom:  12  Charisma:  8\n",
      "Name:  John Race:  Human  Strength:  13  Dexterity:  9  Constitution:  4  Intelligence:  7  Wisdom:  15  Charisma:  14\n",
      "Name:  John Race:  Human  Strength:  16  Dexterity:  13  Constitution:  14  Intelligence:  10  Wisdom:  16  Charisma:  13\n",
      "Name:  John Race:  Human  Strength:  9  Dexterity:  15  Constitution:  8  Intelligence:  17  Wisdom:  11  Charisma:  9\n",
      "Name:  John Race:  Human  Strength:  16  Dexterity:  14  Constitution:  10  Intelligence:  11  Wisdom:  10  Charisma:  13\n",
      "Name:  John Race:  Human  Strength:  15  Dexterity:  12  Constitution:  13  Intelligence:  14  Wisdom:  14  Charisma:  9\n",
      "Name:  John Race:  Human  Strength:  12  Dexterity:  12  Constitution:  9  Intelligence:  5  Wisdom:  10  Charisma:  15\n",
      "Name:  John Race:  Human  Strength:  16  Dexterity:  14  Constitution:  16  Intelligence:  13  Wisdom:  11  Charisma:  14\n",
      "Name:  John Race:  Human  Strength:  15  Dexterity:  8  Constitution:  12  Intelligence:  15  Wisdom:  16  Charisma:  13\n",
      "Name:  John Race:  Human  Strength:  6  Dexterity:  17  Constitution:  13  Intelligence:  14  Wisdom:  9  Charisma:  10\n"
     ]
    }
   ],
   "source": [
    "n=0\n",
    "layout = [  \n",
    "                [sg.Text('Name: '+player1.name)], \n",
    "                [sg.Text('Race: '+player1.race)], \n",
    "                \n",
    "                [sg.Text('Strength:'), sg.Text(player1.stre, k='-STRE-')],\n",
    "                [sg.Text('Dexterity:'), sg.Text(player1.dext, k='-DEXT-')],\n",
    "                [sg.Text('Constitution:'), sg.Text(player1.cons, k='-CONS-')],\n",
    "                [sg.Text('Intelligence:'), sg.Text(player1.inte, k='-INTE-')],\n",
    "                [sg.Text('Wisdom:'), sg.Text(player1.wisd, k='-WISD-')],\n",
    "                [sg.Text('Charisma:'), sg.Text(player1.char, k='-CHAR-')],\n",
    "\n",
    "                [sg.Button('re-roll stats', key='-REROLL-')],\n",
    "                [sg.Button('Close')]\n",
    "            ]\n",
    "  \n",
    "window = sg.Window('STATS').Layout(layout)\n",
    "\n",
    "while True:\n",
    "    event, values = window.Read()\n",
    "    if event == '-UP-':\n",
    "        \n",
    "        n+=1\n",
    "        window['-COUNTER-'].update(n)\n",
    "        \n",
    "    if event =='-REROLL-':\n",
    "        player1.reRollStats()\n",
    "        window['-STRE-'].update(player1.stre)\n",
    "        window['-DEXT-'].update(player1.dext)\n",
    "        window['-CONS-'].update(player1.cons)\n",
    "        window['-INTE-'].update(player1.inte)\n",
    "        window['-WISD-'].update(player1.wisd)\n",
    "        window['-CHAR-'].update(player1.char)\n",
    "    if event == sg.WIN_CLOSED or event == 'Close':\n",
    "        break\n",
    "    \n",
    "window.close()\n",
    "    "
   ]
  },
  {
   "cell_type": "code",
   "execution_count": null,
   "metadata": {},
   "outputs": [],
   "source": []
  },
  {
   "cell_type": "markdown",
   "metadata": {},
   "source": []
  },
  {
   "cell_type": "markdown",
   "metadata": {},
   "source": [
    "3/28/22 10:17pm- added simple gui to display stats. Next implement reroll to re throw stats.\n",
    "\n",
    "8:44am- I have to find a way to update the gui after reloading. "
   ]
  },
  {
   "cell_type": "code",
   "execution_count": 1,
   "metadata": {},
   "outputs": [],
   "source": [
    "import PySimpleGUI as sg\n",
    "\n",
    "layout = [ [sg.Text('My layout', key='-TEXT-')],\n",
    "           [sg.Button('Read')]]\n",
    "\n",
    "window = sg.Window('My new window', layout)\n",
    "\n",
    "while True:             # Event Loop\n",
    "    event, values = window.read()\n",
    "    if event == sg.WIN_CLOSED:\n",
    "        break\n",
    "    window['-TEXT-'].update('My new text value')"
   ]
  }
 ],
 "metadata": {
  "interpreter": {
   "hash": "179fbfc1336d5405ac7b706d3dc17bb7572a11647f234436ffdd773c93716b2f"
  },
  "kernelspec": {
   "display_name": "Python 3.9.11 64-bit (windows store)",
   "language": "python",
   "name": "python3"
  },
  "language_info": {
   "codemirror_mode": {
    "name": "ipython",
    "version": 3
   },
   "file_extension": ".py",
   "mimetype": "text/x-python",
   "name": "python",
   "nbconvert_exporter": "python",
   "pygments_lexer": "ipython3",
   "version": "3.9.12"
  },
  "orig_nbformat": 4
 },
 "nbformat": 4,
 "nbformat_minor": 2
}
