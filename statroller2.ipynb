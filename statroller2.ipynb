{
 "cells": [
  {
   "cell_type": "code",
   "execution_count": 4,
   "metadata": {},
   "outputs": [
    {
     "name": "stdout",
     "output_type": "stream",
     "text": [
      "Name:  John Race:  Human  Strength:  16  Dexterity:  15  Constitution:  17  Intelligence:  14  Wisdom:  5  Charisma:  12\n"
     ]
    }
   ],
   "source": [
    "import characterclass as ch \n",
    "\n",
    "name = \"John\"\n",
    "race = \"Human\"\n",
    "player1 = ch.CharacterClass(name,race)\n",
    "player1.showStats()\n"
   ]
  },
  {
   "cell_type": "code",
   "execution_count": 6,
   "metadata": {},
   "outputs": [
    {
     "name": "stdout",
     "output_type": "stream",
     "text": [
      "Name:  John Race:  Human  Strength:  14  Dexterity:  15  Constitution:  14  Intelligence:  17  Wisdom:  12  Charisma:  10\n"
     ]
    }
   ],
   "source": [
    "import PySimpleGUI as sg\n",
    "\n",
    "sg.theme('DarkAmber')\n",
    "layout = [  \n",
    "                [sg.Text('Name: '+player1.name)], \n",
    "                [sg.Text('Race: '+player1.race)], \n",
    "                [sg.Text('Strength: '+str(player1.stre))],\n",
    "                [sg.Text('Dexterity: '+str(player1.dext))],\n",
    "                [sg.Text('Constitution: '+str(player1.cons))],\n",
    "                [sg.Text('Intelligence: '+str(player1.inte))],\n",
    "                [sg.Text('Wisdom: '+str(player1.wisd))],\n",
    "                [sg.Text('Charisma: '+str(player1.char))],\n",
    "                [sg.Button('Re-Roll Stats',player1.rerollStats())],\n",
    "                [sg.Button('Close')]\n",
    "            ]\n",
    "  \n",
    "window = sg.Window(\n",
    "    title=\"Stats\",  \n",
    "    layout=layout\n",
    "    )\n",
    "\n",
    "while True:\n",
    "    event, values = window.read()\n",
    "    if event == sg.WIN_CLOSED or event == 'Close':\n",
    "        break\n",
    "    \n",
    "window.close()\n",
    "    "
   ]
  },
  {
   "cell_type": "markdown",
   "metadata": {},
   "source": [
    "3/28/22 10:17pm- added simple gui to display stats. Next implement reroll to re throw stats.\n",
    "\n",
    "8:44am- I have to find a way to update the gui after reloading. "
   ]
  }
 ],
 "metadata": {
  "interpreter": {
   "hash": "179fbfc1336d5405ac7b706d3dc17bb7572a11647f234436ffdd773c93716b2f"
  },
  "kernelspec": {
   "display_name": "Python 3.9.11 64-bit (windows store)",
   "language": "python",
   "name": "python3"
  },
  "language_info": {
   "codemirror_mode": {
    "name": "ipython",
    "version": 3
   },
   "file_extension": ".py",
   "mimetype": "text/x-python",
   "name": "python",
   "nbconvert_exporter": "python",
   "pygments_lexer": "ipython3",
   "version": "3.9.12"
  },
  "orig_nbformat": 4
 },
 "nbformat": 4,
 "nbformat_minor": 2
}
