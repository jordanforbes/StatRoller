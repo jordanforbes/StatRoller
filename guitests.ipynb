{
 "cells": [
  {
   "cell_type": "code",
   "execution_count": 1,
   "metadata": {},
   "outputs": [],
   "source": [
    "import PySimpleGUI as sg\n",
    "\n",
    "def func(message):\n",
    "    print(message)\n",
    "\n",
    "layout = [[sg.Button('1'), sg.Button('2'), sg.Exit()] ]\n",
    "\n",
    "window = sg.Window('ORIGINAL').Layout(layout)\n",
    "\n",
    "while True:             # Event Loop\n",
    "    event, values = window.Read()\n",
    "    if event in (None, 'Exit'):\n",
    "        break\n",
    "    if event == '1':\n",
    "        func('Pressed button 1')\n",
    "    elif event == '2':\n",
    "        func('Pressed button 2')\n",
    "window.Close()"
   ]
  },
  {
   "cell_type": "code",
   "execution_count": 2,
   "metadata": {},
   "outputs": [
    {
     "name": "stdout",
     "output_type": "stream",
     "text": [
      "-WINDOW CLOSE ATTEMPTED- {}\n"
     ]
    }
   ],
   "source": [
    "import PySimpleGUI as sg\n",
    "\n",
    "layout = [[sg.Text('Very basic Window')],\n",
    "          [sg.Text('Click X in titlebar or the Exit button')],\n",
    "          [sg.Button('Go'), sg.Button('Exit')]]\n",
    "\n",
    "window = sg.Window('Window Title', layout, enable_close_attempted_event=True)\n",
    "\n",
    "while True:\n",
    "    event, values = window.read()\n",
    "    print(event, values)\n",
    "    if (event == sg.WINDOW_CLOSE_ATTEMPTED_EVENT or event == 'Exit') and sg.popup_yes_no('Do you really want to exit?') == 'Yes':\n",
    "        break\n",
    "\n",
    "window.close()"
   ]
  },
  {
   "cell_type": "code",
   "execution_count": null,
   "metadata": {},
   "outputs": [],
   "source": [
    "import PySimpleGUI as sg\n",
    "\n",
    "sg.theme('Dark Brown 1')\n",
    "\n",
    "headings = ['HEADER 1', 'HEADER 2', 'HEADER 3','HEADER 4']\n",
    "header =  [[sg.Text('  ')] + [sg.Text(h, size=(14,1)) for h in headings]]\n",
    "\n",
    "input_rows = [[sg.Input(size=(15,1), pad=(0,0)) for col in range(4)] for row in range(10)]\n",
    "\n",
    "layout = header + input_rows\n",
    "\n",
    "window = sg.Window('Table Simulation', layout, font='Courier 12')\n",
    "event, values = window.read()"
   ]
  },
  {
   "cell_type": "code",
   "execution_count": null,
   "metadata": {},
   "outputs": [],
   "source": [
    "import PySimpleGUI as sg\n",
    "\n",
    "def main():\n",
    "    sg.set_options(suppress_raise_key_errors=False, suppress_error_popups=False, suppress_key_guessing=False)\n",
    "\n",
    "    layout = [  [sg.Text('My Window')],\n",
    "                [sg.Input(k='-IN-'), sg.Text(size=(12,1), key='-OUT-')],\n",
    "                [sg.Button('Go'), sg.Button('Exit')]  ]\n",
    "\n",
    "    window = sg.Window('Window Title', layout, finalize=True)\n",
    "\n",
    "    while True:             # Event Loop\n",
    "        event, values = window.read()\n",
    "        print(event, values)\n",
    "        if event == sg.WIN_CLOSED or event == 'Exit':\n",
    "            break\n",
    "        window['-O U T'].update(values['-IN-'])\n",
    "    window.close()\n",
    "\n",
    "def func():\n",
    "\n",
    "    main()\n",
    "\n",
    "func()"
   ]
  },
  {
   "cell_type": "code",
   "execution_count": null,
   "metadata": {},
   "outputs": [],
   "source": [
    "import PySimpleGUI as sg\n",
    "\n",
    "layout = [ [sg.Text('My layout', key='-TEXT-')],\n",
    "           [sg.Button('Read')]]\n",
    "\n",
    "window = sg.Window('My new window', layout)\n",
    "\n",
    "while True:             # Event Loop\n",
    "    event, values = window.read()\n",
    "    if event == sg.WIN_CLOSED:\n",
    "        break\n",
    "    window['-TEXT-'].update('My new text value')"
   ]
  }
 ],
 "metadata": {
  "interpreter": {
   "hash": "6cdb579dd80921cd6476b0a31e2accb2ee366828d3061413da73ee8b1c0be54b"
  },
  "kernelspec": {
   "display_name": "Python 3.9.13 64-bit (windows store)",
   "language": "python",
   "name": "python3"
  },
  "language_info": {
   "codemirror_mode": {
    "name": "ipython",
    "version": 3
   },
   "file_extension": ".py",
   "mimetype": "text/x-python",
   "name": "python",
   "nbconvert_exporter": "python",
   "pygments_lexer": "ipython3",
   "version": "3.9.13"
  },
  "orig_nbformat": 4
 },
 "nbformat": 4,
 "nbformat_minor": 2
}
