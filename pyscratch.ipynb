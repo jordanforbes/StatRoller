{
 "cells": [
  {
   "cell_type": "code",
   "execution_count": 1,
   "metadata": {},
   "outputs": [
    {
     "name": "stderr",
     "output_type": "stream",
     "text": [
      "Exception in Tkinter callback\n",
      "Traceback (most recent call last):\n",
      "  File \"C:\\Program Files\\WindowsApps\\PythonSoftwareFoundation.Python.3.9_3.9.3312.0_x64__qbz5n2kfra8p0\\lib\\tkinter\\__init__.py\", line 1889, in __call__\n",
      "    try:\n",
      "KeyboardInterrupt\n"
     ]
    }
   ],
   "source": [
    "import PySimpleGUI as sg\n",
    "import time\n",
    "\n",
    "# ----------------  Create Form  ----------------\n",
    "sg.ChangeLookAndFeel('Black')\n",
    "sg.SetOptions(element_padding=(0, 0))\n",
    "\n",
    "layout = [[sg.Text('')],\n",
    "         [sg.Text(size=(8, 2), font=('Helvetica', 20), justification='center', key='text')],\n",
    "         [sg.Button('Pause', key='button', button_color=('white', '#001480')),\n",
    "          sg.Button('Reset', button_color=('white', '#007339'), key='Reset'),\n",
    "          sg.Exit(button_color=('white', 'firebrick4'), key='Exit')]]\n",
    "\n",
    "window = sg.Window('Running Timer', layout, no_titlebar=True, auto_size_buttons=False, keep_on_top=True, grab_anywhere=True)\n",
    "\n",
    "# ----------------  main loop  ----------------\n",
    "current_time = 0\n",
    "paused = False\n",
    "start_time = int(round(time.time() * 100))\n",
    "while (True):\n",
    "    # --------- Read and update window --------\n",
    "    event, values = window.read(timeout=10)\n",
    "    current_time = int(round(time.time() * 100)) - start_time\n",
    "    # --------- Display timer in window --------\n",
    "    window['text'].update('{:02d}:{:02d}.{:02d}'.format((current_time // 100) // 60,\n",
    "                                                                  (current_time // 100) % 60,\n",
    "                                                                  current_time % 100))\n",
    "    window.close()"
   ]
  }
 ],
 "metadata": {
  "interpreter": {
   "hash": "179fbfc1336d5405ac7b706d3dc17bb7572a11647f234436ffdd773c93716b2f"
  },
  "kernelspec": {
   "display_name": "Python 3.9.11 64-bit (windows store)",
   "language": "python",
   "name": "python3"
  },
  "language_info": {
   "codemirror_mode": {
    "name": "ipython",
    "version": 3
   },
   "file_extension": ".py",
   "mimetype": "text/x-python",
   "name": "python",
   "nbconvert_exporter": "python",
   "pygments_lexer": "ipython3",
   "version": "3.9.12"
  },
  "orig_nbformat": 4
 },
 "nbformat": 4,
 "nbformat_minor": 2
}
