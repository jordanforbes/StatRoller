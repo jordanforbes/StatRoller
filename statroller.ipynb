{
 "cells": [
  {
   "cell_type": "markdown",
   "metadata": {},
   "source": [
    "3/26/22\n",
    "11:15pm\n",
    "make something that automatically rolls die and sets up a character sheet for dnd \n",
    "\n",
    "part 1: design dice\n",
    "    a. Roll a D6"
   ]
  },
  {
   "cell_type": "code",
   "execution_count": 189,
   "metadata": {},
   "outputs": [],
   "source": [
    "from random import randint \n",
    "\n",
    "def rollDie(die):\n",
    "    return randint(1,die)"
   ]
  },
  {
   "cell_type": "code",
   "execution_count": 390,
   "metadata": {},
   "outputs": [
    {
     "name": "stdout",
     "output_type": "stream",
     "text": [
      "('2d6: 5', [3, 2])\n",
      "('4d20: 43', [14, 9, 3, 17])\n",
      "('20d2: 36', [2, 1, 2, 2, 2, 1, 2, 2, 2, 2, 2, 1, 2, 2, 2, 2, 2, 2, 2, 1])\n"
     ]
    }
   ],
   "source": [
    "def rollHowManyTimes(n,die):\n",
    "    times = n \n",
    "    total = 0\n",
    "    results = []\n",
    "    while times > 0:\n",
    "        roll= rollDie(die)\n",
    "        total += roll\n",
    "        # print(times,roll)\n",
    "        results.append(roll)\n",
    "        times -=1\n",
    "    return str(n)+\"d\"+str(die)+\": \"+str(total),results \n",
    "\n",
    "print(rollHowManyTimes(2,6))\n",
    "print(rollHowManyTimes(4,20))\n",
    "print(rollHowManyTimes(20,2))"
   ]
  },
  {
   "cell_type": "markdown",
   "metadata": {},
   "source": [
    "11:49 PM\n",
    "at this point, I'm able to roll a die of any size and throw it any number of times. \n",
    "\n",
    "Next additions:\n",
    "add stat modifiers\n",
    "use different die in the same statement. \n",
    "I gotta create a player object"
   ]
  },
  {
   "cell_type": "code",
   "execution_count": 402,
   "metadata": {},
   "outputs": [
    {
     "name": "stdout",
     "output_type": "stream",
     "text": [
      "name: ('Joseph',) wisdom: (9,) constitution: 20\n"
     ]
    }
   ],
   "source": [
    "class characterClass:\n",
    "    def __init__(self,name,wis,con):\n",
    "        self.name = name,\n",
    "        self.wis = wis,\n",
    "        self.con = con \n",
    "    \n",
    "    def showStats(self):\n",
    "        print(\n",
    "            \"name: \"+str(self.name)+\n",
    "            \" wisdom: \"+str(self.wis)+\n",
    "            \" constitution: \"+str(self.con)\n",
    "            )\n",
    "    \n",
    "p1 = characterClass(\"Joseph\",9,20)\n",
    "p1.showStats()"
   ]
  },
  {
   "cell_type": "code",
   "execution_count": null,
   "metadata": {},
   "outputs": [],
   "source": []
  }
 ],
 "metadata": {
  "kernelspec": {
   "display_name": "Python 3.9.11 64-bit",
   "name": "python3911jvsc74a57bd0b146a61ac714683d70ac0d0bb800a3b9e98f43cc9f53d48a21818f97179280ed"
  },
  "language_info": {
   "codemirror_mode": {
    "name": "ipython",
    "version": 3
   },
   "file_extension": ".py",
   "mimetype": "text/x-python",
   "name": "python",
   "nbconvert_exporter": "python",
   "pygments_lexer": "ipython3",
   "version": "3.9.11"
  },
  "metadata": {
   "interpreter": {
    "hash": "b146a61ac714683d70ac0d0bb800a3b9e98f43cc9f53d48a21818f97179280ed"
   }
  },
  "orig_nbformat": 2
 },
 "nbformat": 4,
 "nbformat_minor": 2
}
