{
 "cells": [
  {
   "cell_type": "markdown",
   "metadata": {},
   "source": [
    "3/26/22\n",
    "11:15pm\n",
    "make something that automatically rolls die and sets up a character sheet for dnd \n",
    "\n",
    "part 1: design dice\n",
    "    a. Roll a D6"
   ]
  },
  {
   "cell_type": "code",
   "execution_count": 225,
   "metadata": {},
   "outputs": [],
   "source": [
    "from random import randint \n",
    "\n",
    "def rollDie(die):\n",
    "    return randint(1,die)"
   ]
  },
  {
   "cell_type": "code",
   "execution_count": 107,
   "metadata": {},
   "outputs": [
    {
     "name": "stdout",
     "output_type": "stream",
     "text": [
      "[1, 2]\n",
      "[14, 10, 1, 20]\n",
      "[1, 1, 2, 1, 2, 2, 2, 2, 1, 1, 2, 1, 2, 2, 1, 2, 2, 2, 1, 1]\n"
     ]
    }
   ],
   "source": [
    "def rollHowManyTimes(n,die):\n",
    "    times = n \n",
    "    total = 0\n",
    "    results = []\n",
    "    while times > 0:\n",
    "        roll= rollDie(die)\n",
    "        total += roll\n",
    "        # print(times,roll)\n",
    "        results.append(roll)\n",
    "        times -=1\n",
    "    return results\n",
    "\n",
    "print(rollHowManyTimes(2,6))\n",
    "print(rollHowManyTimes(4,20))\n",
    "print(rollHowManyTimes(20,2))"
   ]
  },
  {
   "cell_type": "markdown",
   "metadata": {},
   "source": [
    "11:49 PM\n",
    "at this point, I'm able to roll a die of any size and throw it any number of times. \n",
    "\n",
    "Next additions:\n",
    "add stat modifiers\n",
    "use different die in the same statement. \n",
    "I gotta create a player object\n",
    "\n",
    "<h1>MAIN CHARACTER CLASS</h1>"
   ]
  },
  {
   "cell_type": "code",
   "execution_count": 240,
   "metadata": {},
   "outputs": [
    {
     "name": "stdout",
     "output_type": "stream",
     "text": [
      "Name:  Joseph Race:  Human  Strength:  18  Dexterity:  12  Constitution:  11  Intelligence:  15  Wisdom:  12  Charisma:  17\n"
     ]
    }
   ],
   "source": [
    "\n",
    "class characterClass:\n",
    "    def __init__(self,name, race):\n",
    "        self.race = race\n",
    "        self.name = name\n",
    "        self.stre = rollStat()\n",
    "        self.dext = rollStat()\n",
    "        self.cons = rollStat()\n",
    "        self.inte = rollStat() \n",
    "        self.wisd = rollStat()\n",
    "        self.char = rollStat() \n",
    "    \n",
    "    def showStats(self):\n",
    "        print(\n",
    "            \"Name: \",self.name,\n",
    "            \"Race: \",self.race,\n",
    "            \" Strength: \",self.stre,\n",
    "            \" Dexterity: \",self.dext,\n",
    "            \" Constitution: \",self.cons,\n",
    "            \" Intelligence: \",self.inte,\n",
    "            \" Wisdom: \",self.wisd,\n",
    "            \" Charisma: \",self.char\n",
    "            )\n",
    "        \n",
    "    def attack(self):\n",
    "        atk = rollDie(20) \n",
    "        print(\"1d20\",atk,\"strength mod\",self.stre)\n",
    "        atk += self.stre\n",
    "        print(\"attack\")\n",
    "        return atk\n",
    "        \n",
    "    \n",
    "player1 = characterClass(\"Joseph\",\"Human\")\n",
    "player1.showStats()"
   ]
  },
  {
   "cell_type": "code",
   "execution_count": 239,
   "metadata": {},
   "outputs": [
    {
     "name": "stdout",
     "output_type": "stream",
     "text": [
      "13\n"
     ]
    }
   ],
   "source": [
    "def rollStat():\n",
    "    stat = 0\n",
    "    roll= rollHowManyTimes(4,6)\n",
    "    roll.remove(min(roll))\n",
    "    for i in roll:\n",
    "        stat+=i\n",
    "    return stat\n",
    "\n",
    "print(rollStat())\n",
    "    "
   ]
  },
  {
   "cell_type": "code",
   "execution_count": 241,
   "metadata": {},
   "outputs": [
    {
     "ename": "SyntaxError",
     "evalue": "invalid syntax (2282839376.py, line 2)",
     "output_type": "error",
     "traceback": [
      "\u001b[1;36m  Input \u001b[1;32mIn [241]\u001b[1;36m\u001b[0m\n\u001b[1;33m    def __init__(self)\u001b[0m\n\u001b[1;37m                      ^\u001b[0m\n\u001b[1;31mSyntaxError\u001b[0m\u001b[1;31m:\u001b[0m invalid syntax\n"
     ]
    }
   ],
   "source": [
    "class Dice:\n",
    "        \n",
    "    def rollOne(self,die):\n",
    "        return randint(1,die)\n",
    "\n",
    "    def rollMulti(self,n,die):\n",
    "        times = n \n",
    "        total = 0\n",
    "        results = []\n",
    "        while times > 0:\n",
    "            roll= self.rollOne(die)\n",
    "            total += roll\n",
    "            # print(times,roll)\n",
    "            results.append(roll)\n",
    "            times -=1\n",
    "        return results\n",
    "\n",
    "    # print(rollHowManyTimes(2,6))\n",
    "    # print(rollHowManyTimes(4,20))\n",
    "    # print(rollHowManyTimes(20,2))\n",
    "\n",
    "    def rollStat(self):\n",
    "        stat = 0\n",
    "        roll= self.rollMulti(4,6)\n",
    "        roll.remove(min(roll))\n",
    "        for i in roll:\n",
    "            stat+=i\n",
    "        return stat\n",
    "    \n",
    "roll1 = Dice\n",
    "print(roll1.rollStat())"
   ]
  }
 ],
 "metadata": {
  "kernelspec": {
   "display_name": "Python 3.9.11 64-bit",
   "name": "python3911jvsc74a57bd0b146a61ac714683d70ac0d0bb800a3b9e98f43cc9f53d48a21818f97179280ed"
  },
  "language_info": {
   "codemirror_mode": {
    "name": "ipython",
    "version": 3
   },
   "file_extension": ".py",
   "mimetype": "text/x-python",
   "name": "python",
   "nbconvert_exporter": "python",
   "pygments_lexer": "ipython3",
   "version": "3.9.11"
  },
  "metadata": {
   "interpreter": {
    "hash": "b146a61ac714683d70ac0d0bb800a3b9e98f43cc9f53d48a21818f97179280ed"
   }
  },
  "orig_nbformat": 2
 },
 "nbformat": 4,
 "nbformat_minor": 2
}
