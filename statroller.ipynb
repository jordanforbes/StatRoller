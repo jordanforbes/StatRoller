{
 "metadata": {
  "language_info": {
   "codemirror_mode": {
    "name": "ipython",
    "version": 3
   },
   "file_extension": ".py",
   "mimetype": "text/x-python",
   "name": "python",
   "nbconvert_exporter": "python",
   "pygments_lexer": "ipython3",
   "version": "3.9.11"
  },
  "orig_nbformat": 2,
  "kernelspec": {
   "name": "python3911jvsc74a57bd0b146a61ac714683d70ac0d0bb800a3b9e98f43cc9f53d48a21818f97179280ed",
   "display_name": "Python 3.9.11 64-bit"
  },
  "metadata": {
   "interpreter": {
    "hash": "b146a61ac714683d70ac0d0bb800a3b9e98f43cc9f53d48a21818f97179280ed"
   }
  }
 },
 "nbformat": 4,
 "nbformat_minor": 2,
 "cells": [
  {
   "source": [
    "3/26/22\n",
    "11:15pm\n",
    "make something that automatically rolls die and sets up a character sheet for dnd \n",
    "\n",
    "part 1: design dice\n",
    "    a. Roll a D6"
   ],
   "cell_type": "markdown",
   "metadata": {}
  },
  {
   "cell_type": "code",
   "execution_count": 189,
   "metadata": {},
   "outputs": [],
   "source": [
    "from random import randint \n",
    "\n",
    "def rollDie(die):\n",
    "    return randint(1,die)"
   ]
  },
  {
   "cell_type": "code",
   "execution_count": 384,
   "metadata": {},
   "outputs": [
    {
     "output_type": "stream",
     "name": "stdout",
     "text": [
      "('2d6:', 'results:', [5, 6], 'total:', 11)\n('4d20:', 'results:', [18, 8, 9, 1], 'total:', 36)\n('20d2:', 'results:', [1, 1, 1, 1, 1, 1, 2, 2, 2, 2, 2, 1, 2, 2, 2, 1, 2, 1, 2, 1], 'total:', 30)\n"
     ]
    }
   ],
   "source": [
    "def rollHowManyTimes(n,die):\n",
    "    times = n \n",
    "    total = 0\n",
    "    results = []\n",
    "    while times > 0:\n",
    "        roll= rollDie(die)\n",
    "        total += roll\n",
    "        # print(times,roll)\n",
    "        results.append(roll)\n",
    "        times -=1\n",
    "    return str(n)+\"d\"+str(die)+\":\",\"results:\",results, \"total:\",total \n",
    "\n",
    "print(rollHowManyTimes(2,6))\n",
    "print(rollHowManyTimes(4,20))\n",
    "print(rollHowManyTimes(20,2))"
   ]
  },
  {
   "cell_type": "code",
   "execution_count": null,
   "metadata": {},
   "outputs": [],
   "source": []
  }
 ]
}