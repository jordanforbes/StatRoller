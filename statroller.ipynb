{
 "cells": [
  {
   "cell_type": "markdown",
   "metadata": {},
   "source": [
    "3/26/22\n",
    "11:15pm\n",
    "make something that automatically rolls die and sets up a character sheet for dnd \n",
    "\n",
    "part 1: design dice\n",
    "    a. Roll a D6"
   ]
  },
  {
   "cell_type": "code",
   "execution_count": 189,
   "metadata": {},
   "outputs": [],
   "source": [
    "from random import randint \n",
    "\n",
    "def rollDie(die):\n",
    "    return randint(1,die)"
   ]
  },
  {
   "cell_type": "code",
   "execution_count": 390,
   "metadata": {},
   "outputs": [
    {
     "name": "stdout",
     "output_type": "stream",
     "text": [
      "('2d6: 5', [3, 2])\n",
      "('4d20: 43', [14, 9, 3, 17])\n",
      "('20d2: 36', [2, 1, 2, 2, 2, 1, 2, 2, 2, 2, 2, 1, 2, 2, 2, 2, 2, 2, 2, 1])\n"
     ]
    }
   ],
   "source": [
    "def rollHowManyTimes(n,die):\n",
    "    times = n \n",
    "    total = 0\n",
    "    results = []\n",
    "    while times > 0:\n",
    "        roll= rollDie(die)\n",
    "        total += roll\n",
    "        # print(times,roll)\n",
    "        results.append(roll)\n",
    "        times -=1\n",
    "    return results\n",
    "\n",
    "print(rollHowManyTimes(2,6))\n",
    "print(rollHowManyTimes(4,20))\n",
    "print(rollHowManyTimes(20,2))"
   ]
  },
  {
   "cell_type": "markdown",
   "metadata": {},
   "source": [
    "11:49 PM\n",
    "at this point, I'm able to roll a die of any size and throw it any number of times. \n",
    "\n",
    "Next additions:\n",
    "add stat modifiers\n",
    "use different die in the same statement. \n",
    "I gotta create a player object"
   ]
  },
  {
   "cell_type": "code",
   "execution_count": 4,
   "metadata": {},
   "outputs": [
    {
     "name": "stdout",
     "output_type": "stream",
     "text": [
      "name: ('Joseph',) wisdom: (9,) constitution: 20\n"
     ]
    }
   ],
   "source": [
    "class characterClass:\n",
    "    def __init__(self,name,wis,con):\n",
    "        self.name = name,\n",
    "        self.wis = wis,\n",
    "        self.con = con \n",
    "    \n",
    "    def showStats(self):\n",
    "        print(\n",
    "            \"name: \"+str(self.name)+\n",
    "            \" wisdom: \"+str(self.wis)+\n",
    "            \" constitution: \"+str(self.con)\n",
    "            )\n",
    "    \n",
    "p1 = characterClass(\"Joseph\",9,20)\n",
    "p1.showStats()"
   ]
  },
  {
   "cell_type": "code",
   "execution_count": 5,
   "metadata": {},
   "outputs": [
    {
     "ename": "NameError",
     "evalue": "name 'rollHowManyTimes' is not defined",
     "output_type": "error",
     "traceback": [
      "\u001b[1;31m---------------------------------------------------------------------------\u001b[0m",
      "\u001b[1;31mNameError\u001b[0m                                 Traceback (most recent call last)",
      "\u001b[1;32mc:\\Users\\Jordf\\OneDrive\\coding\\python\\StatRoller\\statroller.ipynb Cell 6'\u001b[0m in \u001b[0;36m<cell line: 6>\u001b[1;34m()\u001b[0m\n\u001b[0;32m      <a href='vscode-notebook-cell:/c%3A/Users/Jordf/OneDrive/coding/python/StatRoller/statroller.ipynb#ch0000005?line=2'>3</a>\u001b[0m     roll\u001b[39m.\u001b[39mremove(\u001b[39mmin\u001b[39m(roll))\n\u001b[0;32m      <a href='vscode-notebook-cell:/c%3A/Users/Jordf/OneDrive/coding/python/StatRoller/statroller.ipynb#ch0000005?line=3'>4</a>\u001b[0m     \u001b[39mreturn\u001b[39;00m roll\n\u001b[1;32m----> <a href='vscode-notebook-cell:/c%3A/Users/Jordf/OneDrive/coding/python/StatRoller/statroller.ipynb#ch0000005?line=5'>6</a>\u001b[0m \u001b[39mprint\u001b[39m(rollStat())\n",
      "\u001b[1;32mc:\\Users\\Jordf\\OneDrive\\coding\\python\\StatRoller\\statroller.ipynb Cell 6'\u001b[0m in \u001b[0;36mrollStat\u001b[1;34m()\u001b[0m\n\u001b[0;32m      <a href='vscode-notebook-cell:/c%3A/Users/Jordf/OneDrive/coding/python/StatRoller/statroller.ipynb#ch0000005?line=0'>1</a>\u001b[0m \u001b[39mdef\u001b[39;00m \u001b[39mrollStat\u001b[39m():\n\u001b[1;32m----> <a href='vscode-notebook-cell:/c%3A/Users/Jordf/OneDrive/coding/python/StatRoller/statroller.ipynb#ch0000005?line=1'>2</a>\u001b[0m     roll\u001b[39m=\u001b[39m rollHowManyTimes(\u001b[39m4\u001b[39m,\u001b[39m6\u001b[39m)\n\u001b[0;32m      <a href='vscode-notebook-cell:/c%3A/Users/Jordf/OneDrive/coding/python/StatRoller/statroller.ipynb#ch0000005?line=2'>3</a>\u001b[0m     roll\u001b[39m.\u001b[39mremove(\u001b[39mmin\u001b[39m(roll))\n\u001b[0;32m      <a href='vscode-notebook-cell:/c%3A/Users/Jordf/OneDrive/coding/python/StatRoller/statroller.ipynb#ch0000005?line=3'>4</a>\u001b[0m     \u001b[39mreturn\u001b[39;00m roll\n",
      "\u001b[1;31mNameError\u001b[0m: name 'rollHowManyTimes' is not defined"
     ]
    }
   ],
   "source": [
    "def rollStat():\n",
    "    roll= rollHowManyTimes(4,6)\n",
    "    roll.remove(min(roll))\n",
    "    return roll\n",
    "\n",
    "print(rollStat())\n",
    "    "
   ]
  }
 ],
 "metadata": {
  "interpreter": {
   "hash": "6368a34afb731bb0f841c9450d2a8e61658b3b17cc345702a1e169cc2d30af5c"
  },
  "kernelspec": {
   "display_name": "Python 3.9.11 64-bit",
   "language": "python",
   "name": "python3"
  },
  "language_info": {
   "codemirror_mode": {
    "name": "ipython",
    "version": 3
   },
   "file_extension": ".py",
   "mimetype": "text/x-python",
   "name": "python",
   "nbconvert_exporter": "python",
   "pygments_lexer": "ipython3",
   "version": "3.9.11"
  },
  "metadata": {
   "interpreter": {
    "hash": "b146a61ac714683d70ac0d0bb800a3b9e98f43cc9f53d48a21818f97179280ed"
   }
  },
  "orig_nbformat": 2
 },
 "nbformat": 4,
 "nbformat_minor": 2
}
