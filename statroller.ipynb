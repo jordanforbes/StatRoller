{
 "cells": [
  {
   "cell_type": "markdown",
   "metadata": {},
   "source": [
    "3/26/22\n",
    "11:15pm\n",
    "make something that automatically rolls die and sets up a character sheet for dnd \n",
    "\n",
    "part 1: design dice\n",
    "    a. Roll a D6"
   ]
  },
  {
   "cell_type": "code",
   "execution_count": 3,
   "metadata": {},
   "outputs": [],
   "source": [
    "from random import randint \n",
    "\n",
    "def rollDie(die):\n",
    "    return randint(1,die)"
   ]
  },
  {
   "cell_type": "code",
   "execution_count": 4,
   "metadata": {},
   "outputs": [
    {
     "name": "stdout",
     "output_type": "stream",
     "text": [
      "[3, 2]\n",
      "[12, 11, 18, 11]\n",
      "[2, 2, 1, 2, 1, 1, 1, 2, 2, 2, 2, 2, 2, 2, 1, 1, 2, 2, 2, 1]\n"
     ]
    }
   ],
   "source": [
    "def rollHowManyTimes(n,die):\n",
    "    times = n \n",
    "    total = 0\n",
    "    results = []\n",
    "    while times > 0:\n",
    "        roll= rollDie(die)\n",
    "        total += roll\n",
    "        # print(times,roll)\n",
    "        results.append(roll)\n",
    "        times -=1\n",
    "    return results\n",
    "\n",
    "print(rollHowManyTimes(2,6))\n",
    "print(rollHowManyTimes(4,20))\n",
    "print(rollHowManyTimes(20,2))"
   ]
  },
  {
   "cell_type": "markdown",
   "metadata": {},
   "source": [
    "11:49 PM\n",
    "at this point, I'm able to roll a die of any size and throw it any number of times. \n",
    "\n",
    "Next additions:\n",
    "add stat modifiers\n",
    "use different die in the same statement. \n",
    "I gotta create a player object\n",
    "\n",
    "<h1>MAIN CHARACTER CLASS</h1>"
   ]
  },
  {
   "cell_type": "code",
   "execution_count": 13,
   "metadata": {},
   "outputs": [
    {
     "name": "stdout",
     "output_type": "stream",
     "text": [
      "Name:  rachel Race:  human  Strength:  14  Dexterity:  14  Constitution:  14  Intelligence:  14  Wisdom:  12  Charisma:  13\n"
     ]
    }
   ],
   "source": [
    "\n",
    "class CharacterClass:\n",
    "    def __init__(self,name, race):\n",
    "        self.name = name\n",
    "        self.race = race\n",
    "        self.stre = rollStat()\n",
    "        self.dext = rollStat()\n",
    "        self.cons = rollStat()\n",
    "        self.inte = rollStat() \n",
    "        self.wisd = rollStat()\n",
    "        self.char = rollStat()\n",
    "         \n",
    "    \n",
    "    def showStats(self):\n",
    "        print(\n",
    "            \"Name: \",self.name,\n",
    "            \"Race: \",self.race,\n",
    "            \" Strength: \",self.stre,\n",
    "            \" Dexterity: \",self.dext,\n",
    "            \" Constitution: \",self.cons,\n",
    "            \" Intelligence: \",self.inte,\n",
    "            \" Wisdom: \",self.wisd,\n",
    "            \" Charisma: \",self.char\n",
    "            )\n",
    "        \n",
    "    def attack(self):\n",
    "        atk = rollDie(20) \n",
    "        print(\"1d20\",atk,\"strength mod\",self.stre)\n",
    "        atk += self.stre\n",
    "        print(\"attack\")\n",
    "        return atk\n",
    "        \n",
    "    \n",
    "player1 = CharacterClass(\"rachel\",\"human\")\n",
    "player1.showStats()"
   ]
  },
  {
   "cell_type": "code",
   "execution_count": 11,
   "metadata": {},
   "outputs": [
    {
     "name": "stdout",
     "output_type": "stream",
     "text": [
      "12\n"
     ]
    }
   ],
   "source": [
    "def rollStat():\n",
    "    stat = 0\n",
    "    roll= rollHowManyTimes(4,6)\n",
    "    roll.remove(min(roll))\n",
    "    for i in roll:\n",
    "        stat+=i\n",
    "    return stat\n",
    "\n",
    "print(rollStat())\n",
    "    "
   ]
  },
  {
   "cell_type": "code",
   "execution_count": 14,
   "metadata": {},
   "outputs": [
    {
     "name": "stdout",
     "output_type": "stream",
     "text": [
      "Name:  rob Race:  person  Strength:  16  Dexterity:  11  Constitution:  13  Intelligence:  12  Wisdom:  14  Charisma:  18\n"
     ]
    }
   ],
   "source": [
    "\n",
    "def createCharacter():\n",
    "    name = input(\"name:\")\n",
    "    race = input(\"race:\")\n",
    "    user = CharacterClass(name,race)\n",
    "    user.showStats()\n",
    "    \n",
    "createCharacter()"
   ]
  }
 ],
 "metadata": {
  "interpreter": {
   "hash": "6368a34afb731bb0f841c9450d2a8e61658b3b17cc345702a1e169cc2d30af5c"
  },
  "kernelspec": {
   "display_name": "Python 3.9.11 64-bit",
   "language": "python",
   "name": "python3"
  },
  "language_info": {
   "codemirror_mode": {
    "name": "ipython",
    "version": 3
   },
   "file_extension": ".py",
   "mimetype": "text/x-python",
   "name": "python",
   "nbconvert_exporter": "python",
   "pygments_lexer": "ipython3",
   "version": "3.9.11"
  },
  "metadata": {
   "interpreter": {
    "hash": "b146a61ac714683d70ac0d0bb800a3b9e98f43cc9f53d48a21818f97179280ed"
   }
  },
  "orig_nbformat": 2
 },
 "nbformat": 4,
 "nbformat_minor": 2
}
